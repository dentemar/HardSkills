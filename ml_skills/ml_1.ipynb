{
 "cells": [
  {
   "cell_type": "code",
   "execution_count": 328,
   "id": "b88b1a0a-6321-47c0-bba1-ef2364d589f2",
   "metadata": {},
   "outputs": [],
   "source": [
    "import pandas as pd"
   ]
  },
  {
   "cell_type": "code",
   "execution_count": 329,
   "id": "feaef072-211e-4523-a4e8-192b818bb03e",
   "metadata": {},
   "outputs": [
    {
     "data": {
      "text/html": [
       "<div>\n",
       "<style scoped>\n",
       "    .dataframe tbody tr th:only-of-type {\n",
       "        vertical-align: middle;\n",
       "    }\n",
       "\n",
       "    .dataframe tbody tr th {\n",
       "        vertical-align: top;\n",
       "    }\n",
       "\n",
       "    .dataframe thead th {\n",
       "        text-align: right;\n",
       "    }\n",
       "</style>\n",
       "<table border=\"1\" class=\"dataframe\">\n",
       "  <thead>\n",
       "    <tr style=\"text-align: right;\">\n",
       "      <th></th>\n",
       "      <th>0</th>\n",
       "      <th>1</th>\n",
       "      <th>2</th>\n",
       "      <th>3</th>\n",
       "      <th>4</th>\n",
       "      <th>5</th>\n",
       "      <th>6</th>\n",
       "      <th>7</th>\n",
       "      <th>8</th>\n",
       "      <th>9</th>\n",
       "      <th>...</th>\n",
       "      <th>16</th>\n",
       "      <th>17</th>\n",
       "      <th>18</th>\n",
       "      <th>19</th>\n",
       "      <th>20</th>\n",
       "      <th>21</th>\n",
       "      <th>22</th>\n",
       "      <th>23</th>\n",
       "      <th>24</th>\n",
       "      <th>25</th>\n",
       "    </tr>\n",
       "  </thead>\n",
       "  <tbody>\n",
       "    <tr>\n",
       "      <th>0</th>\n",
       "      <td>3</td>\n",
       "      <td>NaN</td>\n",
       "      <td>alfa-romero</td>\n",
       "      <td>gas</td>\n",
       "      <td>std</td>\n",
       "      <td>two</td>\n",
       "      <td>convertible</td>\n",
       "      <td>rwd</td>\n",
       "      <td>front</td>\n",
       "      <td>88.6</td>\n",
       "      <td>...</td>\n",
       "      <td>130</td>\n",
       "      <td>mpfi</td>\n",
       "      <td>3.47</td>\n",
       "      <td>2.68</td>\n",
       "      <td>9.0</td>\n",
       "      <td>111.0</td>\n",
       "      <td>5000.0</td>\n",
       "      <td>21</td>\n",
       "      <td>27</td>\n",
       "      <td>13495.0</td>\n",
       "    </tr>\n",
       "    <tr>\n",
       "      <th>1</th>\n",
       "      <td>3</td>\n",
       "      <td>NaN</td>\n",
       "      <td>alfa-romero</td>\n",
       "      <td>gas</td>\n",
       "      <td>std</td>\n",
       "      <td>two</td>\n",
       "      <td>convertible</td>\n",
       "      <td>rwd</td>\n",
       "      <td>front</td>\n",
       "      <td>88.6</td>\n",
       "      <td>...</td>\n",
       "      <td>130</td>\n",
       "      <td>mpfi</td>\n",
       "      <td>3.47</td>\n",
       "      <td>2.68</td>\n",
       "      <td>9.0</td>\n",
       "      <td>111.0</td>\n",
       "      <td>5000.0</td>\n",
       "      <td>21</td>\n",
       "      <td>27</td>\n",
       "      <td>16500.0</td>\n",
       "    </tr>\n",
       "    <tr>\n",
       "      <th>2</th>\n",
       "      <td>1</td>\n",
       "      <td>NaN</td>\n",
       "      <td>alfa-romero</td>\n",
       "      <td>gas</td>\n",
       "      <td>std</td>\n",
       "      <td>two</td>\n",
       "      <td>hatchback</td>\n",
       "      <td>rwd</td>\n",
       "      <td>front</td>\n",
       "      <td>94.5</td>\n",
       "      <td>...</td>\n",
       "      <td>152</td>\n",
       "      <td>mpfi</td>\n",
       "      <td>2.68</td>\n",
       "      <td>3.47</td>\n",
       "      <td>9.0</td>\n",
       "      <td>154.0</td>\n",
       "      <td>5000.0</td>\n",
       "      <td>19</td>\n",
       "      <td>26</td>\n",
       "      <td>16500.0</td>\n",
       "    </tr>\n",
       "    <tr>\n",
       "      <th>3</th>\n",
       "      <td>2</td>\n",
       "      <td>164.0</td>\n",
       "      <td>audi</td>\n",
       "      <td>gas</td>\n",
       "      <td>std</td>\n",
       "      <td>four</td>\n",
       "      <td>sedan</td>\n",
       "      <td>fwd</td>\n",
       "      <td>front</td>\n",
       "      <td>99.8</td>\n",
       "      <td>...</td>\n",
       "      <td>109</td>\n",
       "      <td>mpfi</td>\n",
       "      <td>3.19</td>\n",
       "      <td>3.40</td>\n",
       "      <td>10.0</td>\n",
       "      <td>102.0</td>\n",
       "      <td>5500.0</td>\n",
       "      <td>24</td>\n",
       "      <td>30</td>\n",
       "      <td>13950.0</td>\n",
       "    </tr>\n",
       "    <tr>\n",
       "      <th>4</th>\n",
       "      <td>2</td>\n",
       "      <td>164.0</td>\n",
       "      <td>audi</td>\n",
       "      <td>gas</td>\n",
       "      <td>std</td>\n",
       "      <td>four</td>\n",
       "      <td>sedan</td>\n",
       "      <td>4wd</td>\n",
       "      <td>front</td>\n",
       "      <td>99.4</td>\n",
       "      <td>...</td>\n",
       "      <td>136</td>\n",
       "      <td>mpfi</td>\n",
       "      <td>3.19</td>\n",
       "      <td>3.40</td>\n",
       "      <td>8.0</td>\n",
       "      <td>115.0</td>\n",
       "      <td>5500.0</td>\n",
       "      <td>18</td>\n",
       "      <td>22</td>\n",
       "      <td>17450.0</td>\n",
       "    </tr>\n",
       "  </tbody>\n",
       "</table>\n",
       "<p>5 rows × 26 columns</p>\n",
       "</div>"
      ],
      "text/plain": [
       "   0      1            2    3    4     5            6    7      8     9   ...  \\\n",
       "0   3    NaN  alfa-romero  gas  std   two  convertible  rwd  front  88.6  ...   \n",
       "1   3    NaN  alfa-romero  gas  std   two  convertible  rwd  front  88.6  ...   \n",
       "2   1    NaN  alfa-romero  gas  std   two    hatchback  rwd  front  94.5  ...   \n",
       "3   2  164.0         audi  gas  std  four        sedan  fwd  front  99.8  ...   \n",
       "4   2  164.0         audi  gas  std  four        sedan  4wd  front  99.4  ...   \n",
       "\n",
       "    16    17    18    19    20     21      22  23  24       25  \n",
       "0  130  mpfi  3.47  2.68   9.0  111.0  5000.0  21  27  13495.0  \n",
       "1  130  mpfi  3.47  2.68   9.0  111.0  5000.0  21  27  16500.0  \n",
       "2  152  mpfi  2.68  3.47   9.0  154.0  5000.0  19  26  16500.0  \n",
       "3  109  mpfi  3.19  3.40  10.0  102.0  5500.0  24  30  13950.0  \n",
       "4  136  mpfi  3.19  3.40   8.0  115.0  5500.0  18  22  17450.0  \n",
       "\n",
       "[5 rows x 26 columns]"
      ]
     },
     "execution_count": 329,
     "metadata": {},
     "output_type": "execute_result"
    }
   ],
   "source": [
    "X_raw = pd.read_csv('auto.csv', header = None, na_values = ['?'])\n",
    "X_raw.head()"
   ]
  },
  {
   "cell_type": "code",
   "execution_count": 330,
   "id": "eb2dede3-412f-45de-8731-3a88989923eb",
   "metadata": {},
   "outputs": [],
   "source": [
    "# последний столбец - это стоимость авто, мы ее и будем предсказывать (целевая переменная)"
   ]
  },
  {
   "cell_type": "code",
   "execution_count": 332,
   "id": "a315b1a3-b2c0-4386-93f6-95009094a7c2",
   "metadata": {},
   "outputs": [
    {
     "data": {
      "text/plain": [
       "4"
      ]
     },
     "execution_count": 332,
     "metadata": {},
     "output_type": "execute_result"
    }
   ],
   "source": [
    "X_raw[25].isna().sum()"
   ]
  },
  {
   "cell_type": "code",
   "execution_count": 333,
   "id": "bf09be65-d1b6-4e8f-b4c2-9b440789d5fc",
   "metadata": {},
   "outputs": [
    {
     "data": {
      "text/plain": [
       "(201, 26)"
      ]
     },
     "execution_count": 333,
     "metadata": {},
     "output_type": "execute_result"
    }
   ],
   "source": [
    "X_raw = X_raw[X_raw[25].notna()]\n",
    "X_raw.shape"
   ]
  },
  {
   "cell_type": "code",
   "execution_count": 334,
   "id": "bcf4bad6-20e7-4561-acb0-62af84d1e5e1",
   "metadata": {},
   "outputs": [],
   "source": [
    "y = X_raw[25]\n",
    "X_raw = X_raw.drop(25, axis = 1)\n",
    "# исключаем столбец с целевой переменной"
   ]
  },
  {
   "cell_type": "code",
   "execution_count": 336,
   "id": "e22d48e1-fcfd-4d93-9514-b4c47dbd05fc",
   "metadata": {},
   "outputs": [
    {
     "data": {
      "text/plain": [
       "((201, 25), 201)"
      ]
     },
     "execution_count": 336,
     "metadata": {},
     "output_type": "execute_result"
    }
   ],
   "source": [
    "X_raw.shape, len(y)"
   ]
  },
  {
   "cell_type": "code",
   "execution_count": 338,
   "id": "a7ecc9ee-d757-493a-9faa-6e3e78e7806d",
   "metadata": {},
   "outputs": [],
   "source": [
    "# Дальше у нас идет предобработка данных. Она важна при применении любых методов ML, а в особенности для линейных моделей. \n",
    "# В sklearn предобработку данных удобно делать с помощью модуля preprocessing или методов библиотеки pandas"
   ]
  },
  {
   "cell_type": "code",
   "execution_count": 339,
   "id": "5700a36b-81e1-47f6-8c89-fa1074842d55",
   "metadata": {},
   "outputs": [],
   "source": [
    "from sklearn import impute"
   ]
  },
  {
   "cell_type": "code",
   "execution_count": 343,
   "id": "556f68db-3deb-47de-9e5d-b6710ab19c4c",
   "metadata": {},
   "outputs": [],
   "source": [
    "# В матрице объекты-признаки могут быть пропущенные значения и это вызовет исключюения при попытке передать такую матрицу \n",
    "# в функцию обучения модели или даже предобработки. Если пропусков немного, можно удалить объекты с пропусками из обучающей выборки.\n",
    "# Заполнить пропуски можно разными способами: \n",
    "# - заполнить средними (медиана или среднее)\n",
    "# - предсказывать пропущенные значения по непропущенным"
   ]
  },
  {
   "cell_type": "code",
   "execution_count": 344,
   "id": "31f07a13-9c3f-4eac-a428-a419df2585e9",
   "metadata": {},
   "outputs": [
    {
     "data": {
      "text/plain": [
       "array([False, False,  True,  True,  True,  True,  True,  True,  True,\n",
       "       False, False, False, False, False,  True,  True, False,  True,\n",
       "       False, False, False, False, False, False, False])"
      ]
     },
     "execution_count": 344,
     "metadata": {},
     "output_type": "execute_result"
    }
   ],
   "source": [
    "# для удобства работы с нашим датасетом создаем маску, указывающем на столбцы с текстовым типом данных \n",
    "cat_features_mask = (X_raw.dtypes == 'object').values \n",
    "cat_features_mask"
   ]
  },
  {
   "cell_type": "code",
   "execution_count": 346,
   "id": "3b0bc2d8-a0ec-4c34-80b6-6a2f30bc11f9",
   "metadata": {},
   "outputs": [],
   "source": [
    "# для вещественнозначных признаков заполним пропускими средними"
   ]
  },
  {
   "cell_type": "code",
   "execution_count": 347,
   "id": "12fa2565-1ab5-4305-968c-964164827d0a",
   "metadata": {},
   "outputs": [],
   "source": [
    "X_real = X_raw[X_raw.columns[~cat_features_mask]]\n",
    "mis_replacer = impute.SimpleImputer(strategy = 'mean')\n",
    "X_no_mis_real = pd.DataFrame(data = mis_replacer.fit_transform(X_real), columns = X_real.columns)\n",
    "\n",
    "# для категориальных - пустыми строками\n",
    "X_cat = X_raw[X_raw.columns[cat_features_mask]].fillna(\"\")\n",
    "X_cat.reset_index(drop = True, inplace = True)\n",
    "\n",
    "X_no_mis = pd.concat([X_no_mis_real, X_cat], axis = 1)"
   ]
  },
  {
   "cell_type": "code",
   "execution_count": 350,
   "id": "a7a4bfb1-6dc7-4600-ba1d-f9f0967bffe8",
   "metadata": {},
   "outputs": [
    {
     "data": {
      "text/plain": [
       "((201, 15), (201, 10), (201, 25))"
      ]
     },
     "execution_count": 350,
     "metadata": {},
     "output_type": "execute_result"
    }
   ],
   "source": [
    "X_no_mis_real.shape, X_cat.shape, X_no_mis.shape"
   ]
  },
  {
   "cell_type": "code",
   "execution_count": 351,
   "id": "4b9c8f16-c1a8-4f96-a61d-a638da769053",
   "metadata": {},
   "outputs": [
    {
     "data": {
      "text/html": [
       "<div>\n",
       "<style scoped>\n",
       "    .dataframe tbody tr th:only-of-type {\n",
       "        vertical-align: middle;\n",
       "    }\n",
       "\n",
       "    .dataframe tbody tr th {\n",
       "        vertical-align: top;\n",
       "    }\n",
       "\n",
       "    .dataframe thead th {\n",
       "        text-align: right;\n",
       "    }\n",
       "</style>\n",
       "<table border=\"1\" class=\"dataframe\">\n",
       "  <thead>\n",
       "    <tr style=\"text-align: right;\">\n",
       "      <th></th>\n",
       "      <th>0</th>\n",
       "      <th>1</th>\n",
       "      <th>9</th>\n",
       "      <th>10</th>\n",
       "      <th>11</th>\n",
       "      <th>12</th>\n",
       "      <th>13</th>\n",
       "      <th>16</th>\n",
       "      <th>18</th>\n",
       "      <th>19</th>\n",
       "      <th>...</th>\n",
       "      <th>2</th>\n",
       "      <th>3</th>\n",
       "      <th>4</th>\n",
       "      <th>5</th>\n",
       "      <th>6</th>\n",
       "      <th>7</th>\n",
       "      <th>8</th>\n",
       "      <th>14</th>\n",
       "      <th>15</th>\n",
       "      <th>17</th>\n",
       "    </tr>\n",
       "  </thead>\n",
       "  <tbody>\n",
       "    <tr>\n",
       "      <th>0</th>\n",
       "      <td>3.0</td>\n",
       "      <td>122.0</td>\n",
       "      <td>88.6</td>\n",
       "      <td>168.8</td>\n",
       "      <td>64.1</td>\n",
       "      <td>48.8</td>\n",
       "      <td>2548.0</td>\n",
       "      <td>130.0</td>\n",
       "      <td>3.47</td>\n",
       "      <td>2.68</td>\n",
       "      <td>...</td>\n",
       "      <td>alfa-romero</td>\n",
       "      <td>gas</td>\n",
       "      <td>std</td>\n",
       "      <td>two</td>\n",
       "      <td>convertible</td>\n",
       "      <td>rwd</td>\n",
       "      <td>front</td>\n",
       "      <td>dohc</td>\n",
       "      <td>four</td>\n",
       "      <td>mpfi</td>\n",
       "    </tr>\n",
       "    <tr>\n",
       "      <th>1</th>\n",
       "      <td>3.0</td>\n",
       "      <td>122.0</td>\n",
       "      <td>88.6</td>\n",
       "      <td>168.8</td>\n",
       "      <td>64.1</td>\n",
       "      <td>48.8</td>\n",
       "      <td>2548.0</td>\n",
       "      <td>130.0</td>\n",
       "      <td>3.47</td>\n",
       "      <td>2.68</td>\n",
       "      <td>...</td>\n",
       "      <td>alfa-romero</td>\n",
       "      <td>gas</td>\n",
       "      <td>std</td>\n",
       "      <td>two</td>\n",
       "      <td>convertible</td>\n",
       "      <td>rwd</td>\n",
       "      <td>front</td>\n",
       "      <td>dohc</td>\n",
       "      <td>four</td>\n",
       "      <td>mpfi</td>\n",
       "    </tr>\n",
       "    <tr>\n",
       "      <th>2</th>\n",
       "      <td>1.0</td>\n",
       "      <td>122.0</td>\n",
       "      <td>94.5</td>\n",
       "      <td>171.2</td>\n",
       "      <td>65.5</td>\n",
       "      <td>52.4</td>\n",
       "      <td>2823.0</td>\n",
       "      <td>152.0</td>\n",
       "      <td>2.68</td>\n",
       "      <td>3.47</td>\n",
       "      <td>...</td>\n",
       "      <td>alfa-romero</td>\n",
       "      <td>gas</td>\n",
       "      <td>std</td>\n",
       "      <td>two</td>\n",
       "      <td>hatchback</td>\n",
       "      <td>rwd</td>\n",
       "      <td>front</td>\n",
       "      <td>ohcv</td>\n",
       "      <td>six</td>\n",
       "      <td>mpfi</td>\n",
       "    </tr>\n",
       "    <tr>\n",
       "      <th>3</th>\n",
       "      <td>2.0</td>\n",
       "      <td>164.0</td>\n",
       "      <td>99.8</td>\n",
       "      <td>176.6</td>\n",
       "      <td>66.2</td>\n",
       "      <td>54.3</td>\n",
       "      <td>2337.0</td>\n",
       "      <td>109.0</td>\n",
       "      <td>3.19</td>\n",
       "      <td>3.40</td>\n",
       "      <td>...</td>\n",
       "      <td>audi</td>\n",
       "      <td>gas</td>\n",
       "      <td>std</td>\n",
       "      <td>four</td>\n",
       "      <td>sedan</td>\n",
       "      <td>fwd</td>\n",
       "      <td>front</td>\n",
       "      <td>ohc</td>\n",
       "      <td>four</td>\n",
       "      <td>mpfi</td>\n",
       "    </tr>\n",
       "    <tr>\n",
       "      <th>4</th>\n",
       "      <td>2.0</td>\n",
       "      <td>164.0</td>\n",
       "      <td>99.4</td>\n",
       "      <td>176.6</td>\n",
       "      <td>66.4</td>\n",
       "      <td>54.3</td>\n",
       "      <td>2824.0</td>\n",
       "      <td>136.0</td>\n",
       "      <td>3.19</td>\n",
       "      <td>3.40</td>\n",
       "      <td>...</td>\n",
       "      <td>audi</td>\n",
       "      <td>gas</td>\n",
       "      <td>std</td>\n",
       "      <td>four</td>\n",
       "      <td>sedan</td>\n",
       "      <td>4wd</td>\n",
       "      <td>front</td>\n",
       "      <td>ohc</td>\n",
       "      <td>five</td>\n",
       "      <td>mpfi</td>\n",
       "    </tr>\n",
       "  </tbody>\n",
       "</table>\n",
       "<p>5 rows × 25 columns</p>\n",
       "</div>"
      ],
      "text/plain": [
       "    0      1     9      10    11    12      13     16    18    19  ...  \\\n",
       "0  3.0  122.0  88.6  168.8  64.1  48.8  2548.0  130.0  3.47  2.68  ...   \n",
       "1  3.0  122.0  88.6  168.8  64.1  48.8  2548.0  130.0  3.47  2.68  ...   \n",
       "2  1.0  122.0  94.5  171.2  65.5  52.4  2823.0  152.0  2.68  3.47  ...   \n",
       "3  2.0  164.0  99.8  176.6  66.2  54.3  2337.0  109.0  3.19  3.40  ...   \n",
       "4  2.0  164.0  99.4  176.6  66.4  54.3  2824.0  136.0  3.19  3.40  ...   \n",
       "\n",
       "            2    3    4     5            6    7      8     14    15    17  \n",
       "0  alfa-romero  gas  std   two  convertible  rwd  front  dohc  four  mpfi  \n",
       "1  alfa-romero  gas  std   two  convertible  rwd  front  dohc  four  mpfi  \n",
       "2  alfa-romero  gas  std   two    hatchback  rwd  front  ohcv   six  mpfi  \n",
       "3         audi  gas  std  four        sedan  fwd  front   ohc  four  mpfi  \n",
       "4         audi  gas  std  four        sedan  4wd  front   ohc  five  mpfi  \n",
       "\n",
       "[5 rows x 25 columns]"
      ]
     },
     "execution_count": 351,
     "metadata": {},
     "output_type": "execute_result"
    }
   ],
   "source": [
    "X_no_mis.head()"
   ]
  },
  {
   "cell_type": "code",
   "execution_count": 352,
   "id": "51ea3bb9-424f-434c-af74-08fceb8e3a51",
   "metadata": {},
   "outputs": [
    {
     "data": {
      "text/plain": [
       "0"
      ]
     },
     "execution_count": 352,
     "metadata": {},
     "output_type": "execute_result"
    }
   ],
   "source": [
    "X_no_mis.isna().sum().sum()\n",
    "# видим что больше нет пустых строк"
   ]
  },
  {
   "cell_type": "code",
   "execution_count": 353,
   "id": "605f9649-f26b-4e1a-901b-30a6e82c4330",
   "metadata": {},
   "outputs": [],
   "source": [
    "# всегда важно понимать, случайны ли пропуски в каком-то признаке. Иногда факт отсутствия информации о значении признака \n",
    "# может быть важным признаком который необходимо добавить к другим признакам. "
   ]
  },
  {
   "cell_type": "code",
   "execution_count": 355,
   "id": "c7a38340-033a-4f56-8bab-b87db50859e5",
   "metadata": {},
   "outputs": [
    {
     "name": "stdout",
     "output_type": "stream",
     "text": [
      "(201, 65)\n"
     ]
    },
    {
     "data": {
      "text/html": [
       "<div>\n",
       "<style scoped>\n",
       "    .dataframe tbody tr th:only-of-type {\n",
       "        vertical-align: middle;\n",
       "    }\n",
       "\n",
       "    .dataframe tbody tr th {\n",
       "        vertical-align: top;\n",
       "    }\n",
       "\n",
       "    .dataframe thead th {\n",
       "        text-align: right;\n",
       "    }\n",
       "</style>\n",
       "<table border=\"1\" class=\"dataframe\">\n",
       "  <thead>\n",
       "    <tr style=\"text-align: right;\">\n",
       "      <th></th>\n",
       "      <th>0</th>\n",
       "      <th>1</th>\n",
       "      <th>9</th>\n",
       "      <th>10</th>\n",
       "      <th>11</th>\n",
       "      <th>12</th>\n",
       "      <th>13</th>\n",
       "      <th>16</th>\n",
       "      <th>18</th>\n",
       "      <th>19</th>\n",
       "      <th>...</th>\n",
       "      <th>15_three</th>\n",
       "      <th>15_twelve</th>\n",
       "      <th>15_two</th>\n",
       "      <th>17_2bbl</th>\n",
       "      <th>17_4bbl</th>\n",
       "      <th>17_idi</th>\n",
       "      <th>17_mfi</th>\n",
       "      <th>17_mpfi</th>\n",
       "      <th>17_spdi</th>\n",
       "      <th>17_spfi</th>\n",
       "    </tr>\n",
       "  </thead>\n",
       "  <tbody>\n",
       "    <tr>\n",
       "      <th>0</th>\n",
       "      <td>3.0</td>\n",
       "      <td>122.0</td>\n",
       "      <td>88.6</td>\n",
       "      <td>168.8</td>\n",
       "      <td>64.1</td>\n",
       "      <td>48.8</td>\n",
       "      <td>2548.0</td>\n",
       "      <td>130.0</td>\n",
       "      <td>3.47</td>\n",
       "      <td>2.68</td>\n",
       "      <td>...</td>\n",
       "      <td>0.0</td>\n",
       "      <td>0.0</td>\n",
       "      <td>0.0</td>\n",
       "      <td>0.0</td>\n",
       "      <td>0.0</td>\n",
       "      <td>0.0</td>\n",
       "      <td>0.0</td>\n",
       "      <td>1.0</td>\n",
       "      <td>0.0</td>\n",
       "      <td>0.0</td>\n",
       "    </tr>\n",
       "    <tr>\n",
       "      <th>1</th>\n",
       "      <td>3.0</td>\n",
       "      <td>122.0</td>\n",
       "      <td>88.6</td>\n",
       "      <td>168.8</td>\n",
       "      <td>64.1</td>\n",
       "      <td>48.8</td>\n",
       "      <td>2548.0</td>\n",
       "      <td>130.0</td>\n",
       "      <td>3.47</td>\n",
       "      <td>2.68</td>\n",
       "      <td>...</td>\n",
       "      <td>0.0</td>\n",
       "      <td>0.0</td>\n",
       "      <td>0.0</td>\n",
       "      <td>0.0</td>\n",
       "      <td>0.0</td>\n",
       "      <td>0.0</td>\n",
       "      <td>0.0</td>\n",
       "      <td>1.0</td>\n",
       "      <td>0.0</td>\n",
       "      <td>0.0</td>\n",
       "    </tr>\n",
       "    <tr>\n",
       "      <th>2</th>\n",
       "      <td>1.0</td>\n",
       "      <td>122.0</td>\n",
       "      <td>94.5</td>\n",
       "      <td>171.2</td>\n",
       "      <td>65.5</td>\n",
       "      <td>52.4</td>\n",
       "      <td>2823.0</td>\n",
       "      <td>152.0</td>\n",
       "      <td>2.68</td>\n",
       "      <td>3.47</td>\n",
       "      <td>...</td>\n",
       "      <td>0.0</td>\n",
       "      <td>0.0</td>\n",
       "      <td>0.0</td>\n",
       "      <td>0.0</td>\n",
       "      <td>0.0</td>\n",
       "      <td>0.0</td>\n",
       "      <td>0.0</td>\n",
       "      <td>1.0</td>\n",
       "      <td>0.0</td>\n",
       "      <td>0.0</td>\n",
       "    </tr>\n",
       "    <tr>\n",
       "      <th>3</th>\n",
       "      <td>2.0</td>\n",
       "      <td>164.0</td>\n",
       "      <td>99.8</td>\n",
       "      <td>176.6</td>\n",
       "      <td>66.2</td>\n",
       "      <td>54.3</td>\n",
       "      <td>2337.0</td>\n",
       "      <td>109.0</td>\n",
       "      <td>3.19</td>\n",
       "      <td>3.40</td>\n",
       "      <td>...</td>\n",
       "      <td>0.0</td>\n",
       "      <td>0.0</td>\n",
       "      <td>0.0</td>\n",
       "      <td>0.0</td>\n",
       "      <td>0.0</td>\n",
       "      <td>0.0</td>\n",
       "      <td>0.0</td>\n",
       "      <td>1.0</td>\n",
       "      <td>0.0</td>\n",
       "      <td>0.0</td>\n",
       "    </tr>\n",
       "    <tr>\n",
       "      <th>4</th>\n",
       "      <td>2.0</td>\n",
       "      <td>164.0</td>\n",
       "      <td>99.4</td>\n",
       "      <td>176.6</td>\n",
       "      <td>66.4</td>\n",
       "      <td>54.3</td>\n",
       "      <td>2824.0</td>\n",
       "      <td>136.0</td>\n",
       "      <td>3.19</td>\n",
       "      <td>3.40</td>\n",
       "      <td>...</td>\n",
       "      <td>0.0</td>\n",
       "      <td>0.0</td>\n",
       "      <td>0.0</td>\n",
       "      <td>0.0</td>\n",
       "      <td>0.0</td>\n",
       "      <td>0.0</td>\n",
       "      <td>0.0</td>\n",
       "      <td>1.0</td>\n",
       "      <td>0.0</td>\n",
       "      <td>0.0</td>\n",
       "    </tr>\n",
       "  </tbody>\n",
       "</table>\n",
       "<p>5 rows × 65 columns</p>\n",
       "</div>"
      ],
      "text/plain": [
       "     0      1     9     10    11    12      13     16    18    19  ...  \\\n",
       "0  3.0  122.0  88.6  168.8  64.1  48.8  2548.0  130.0  3.47  2.68  ...   \n",
       "1  3.0  122.0  88.6  168.8  64.1  48.8  2548.0  130.0  3.47  2.68  ...   \n",
       "2  1.0  122.0  94.5  171.2  65.5  52.4  2823.0  152.0  2.68  3.47  ...   \n",
       "3  2.0  164.0  99.8  176.6  66.2  54.3  2337.0  109.0  3.19  3.40  ...   \n",
       "4  2.0  164.0  99.4  176.6  66.4  54.3  2824.0  136.0  3.19  3.40  ...   \n",
       "\n",
       "   15_three  15_twelve  15_two  17_2bbl  17_4bbl  17_idi  17_mfi  17_mpfi  \\\n",
       "0       0.0        0.0     0.0      0.0      0.0     0.0     0.0      1.0   \n",
       "1       0.0        0.0     0.0      0.0      0.0     0.0     0.0      1.0   \n",
       "2       0.0        0.0     0.0      0.0      0.0     0.0     0.0      1.0   \n",
       "3       0.0        0.0     0.0      0.0      0.0     0.0     0.0      1.0   \n",
       "4       0.0        0.0     0.0      0.0      0.0     0.0     0.0      1.0   \n",
       "\n",
       "   17_spdi  17_spfi  \n",
       "0      0.0      0.0  \n",
       "1      0.0      0.0  \n",
       "2      0.0      0.0  \n",
       "3      0.0      0.0  \n",
       "4      0.0      0.0  \n",
       "\n",
       "[5 rows x 65 columns]"
      ]
     },
     "execution_count": 355,
     "metadata": {},
     "output_type": "execute_result"
    }
   ],
   "source": [
    "X_dum = pd.get_dummies(X_no_mis, drop_first = True).astype('float')\n",
    "X_dum.columns = X_dum.columns.astype('str')\n",
    "# drop_first - означает, что мы выкидываем одну из категорий, чтобы не было перебоучения модели, так как уже понятно, что \n",
    "# если один признак равен условно 1, то остальные равны 0\n",
    "print(X_dum.shape)\n",
    "X_dum.head()"
   ]
  },
  {
   "cell_type": "code",
   "execution_count": 357,
   "id": "0d095dcb-a20a-4db4-bb1a-a57c1dc00ada",
   "metadata": {},
   "outputs": [],
   "source": [
    " # теперь нужно масшатбировать для того чтобы обучить линейную модель"
   ]
  },
  {
   "cell_type": "code",
   "execution_count": 360,
   "id": "bc486579-f2b3-41e4-892f-828574c722ad",
   "metadata": {},
   "outputs": [],
   "source": [
    "# При работе с данными всегда рекомендуется приводить все признаки к одному масштабу. Это важно по причинам: \n",
    "# - ускорение обучения модели\n",
    "# - улучшение численной устойчивости при работе с матрицей объекты-признаки (рядом с нулем с плавающей точкой больше, чем \n",
    "# с области больших чисел)\n",
    "# - для линейных моделей: интерпретация весов при признаках как меры их значимости."
   ]
  },
  {
   "cell_type": "code",
   "execution_count": 361,
   "id": "e04c33f6-9a46-429f-95e3-533f6f86d211",
   "metadata": {},
   "outputs": [],
   "source": [
    "# Первый популярный способ масштабирования - это нормализация: вычитание среднего из каждого признака и деление на \n",
    "# стандартное отклонение (StandardScaler в sklearn). Второй популярный способ: вычитание минимума из каждого признака, \n",
    "# а затем деление на разницу максимального и минимального значения (MinMaxScaler в sklearn)"
   ]
  },
  {
   "cell_type": "code",
   "execution_count": 362,
   "id": "e3c0369a-43a8-4cd6-80ae-5828fa8c6599",
   "metadata": {},
   "outputs": [],
   "source": [
    "from sklearn import preprocessing"
   ]
  },
  {
   "cell_type": "code",
   "execution_count": 367,
   "id": "f53ec0a4-6a98-4cb2-9ce1-94bcbac491a6",
   "metadata": {},
   "outputs": [],
   "source": [
    "normalizer = preprocessing.MinMaxScaler()\n",
    "X_real_norm_np = normalizer.fit_transform(X_dum)\n",
    "X = pd.DataFrame(data = X_real_norm_np)"
   ]
  },
  {
   "cell_type": "code",
   "execution_count": 368,
   "id": "e25b856f-13ed-4ce9-8b4a-d528c9e6e165",
   "metadata": {},
   "outputs": [
    {
     "data": {
      "text/html": [
       "<div>\n",
       "<style scoped>\n",
       "    .dataframe tbody tr th:only-of-type {\n",
       "        vertical-align: middle;\n",
       "    }\n",
       "\n",
       "    .dataframe tbody tr th {\n",
       "        vertical-align: top;\n",
       "    }\n",
       "\n",
       "    .dataframe thead th {\n",
       "        text-align: right;\n",
       "    }\n",
       "</style>\n",
       "<table border=\"1\" class=\"dataframe\">\n",
       "  <thead>\n",
       "    <tr style=\"text-align: right;\">\n",
       "      <th></th>\n",
       "      <th>0</th>\n",
       "      <th>1</th>\n",
       "      <th>2</th>\n",
       "      <th>3</th>\n",
       "      <th>4</th>\n",
       "      <th>5</th>\n",
       "      <th>6</th>\n",
       "      <th>7</th>\n",
       "      <th>8</th>\n",
       "      <th>9</th>\n",
       "      <th>...</th>\n",
       "      <th>55</th>\n",
       "      <th>56</th>\n",
       "      <th>57</th>\n",
       "      <th>58</th>\n",
       "      <th>59</th>\n",
       "      <th>60</th>\n",
       "      <th>61</th>\n",
       "      <th>62</th>\n",
       "      <th>63</th>\n",
       "      <th>64</th>\n",
       "    </tr>\n",
       "  </thead>\n",
       "  <tbody>\n",
       "    <tr>\n",
       "      <th>0</th>\n",
       "      <td>1.0</td>\n",
       "      <td>0.298429</td>\n",
       "      <td>0.058309</td>\n",
       "      <td>0.413433</td>\n",
       "      <td>0.324786</td>\n",
       "      <td>0.083333</td>\n",
       "      <td>0.411171</td>\n",
       "      <td>0.260377</td>\n",
       "      <td>0.664286</td>\n",
       "      <td>0.290476</td>\n",
       "      <td>...</td>\n",
       "      <td>0.0</td>\n",
       "      <td>0.0</td>\n",
       "      <td>0.0</td>\n",
       "      <td>0.0</td>\n",
       "      <td>0.0</td>\n",
       "      <td>0.0</td>\n",
       "      <td>0.0</td>\n",
       "      <td>1.0</td>\n",
       "      <td>0.0</td>\n",
       "      <td>0.0</td>\n",
       "    </tr>\n",
       "    <tr>\n",
       "      <th>1</th>\n",
       "      <td>1.0</td>\n",
       "      <td>0.298429</td>\n",
       "      <td>0.058309</td>\n",
       "      <td>0.413433</td>\n",
       "      <td>0.324786</td>\n",
       "      <td>0.083333</td>\n",
       "      <td>0.411171</td>\n",
       "      <td>0.260377</td>\n",
       "      <td>0.664286</td>\n",
       "      <td>0.290476</td>\n",
       "      <td>...</td>\n",
       "      <td>0.0</td>\n",
       "      <td>0.0</td>\n",
       "      <td>0.0</td>\n",
       "      <td>0.0</td>\n",
       "      <td>0.0</td>\n",
       "      <td>0.0</td>\n",
       "      <td>0.0</td>\n",
       "      <td>1.0</td>\n",
       "      <td>0.0</td>\n",
       "      <td>0.0</td>\n",
       "    </tr>\n",
       "    <tr>\n",
       "      <th>2</th>\n",
       "      <td>0.6</td>\n",
       "      <td>0.298429</td>\n",
       "      <td>0.230321</td>\n",
       "      <td>0.449254</td>\n",
       "      <td>0.444444</td>\n",
       "      <td>0.383333</td>\n",
       "      <td>0.517843</td>\n",
       "      <td>0.343396</td>\n",
       "      <td>0.100000</td>\n",
       "      <td>0.666667</td>\n",
       "      <td>...</td>\n",
       "      <td>0.0</td>\n",
       "      <td>0.0</td>\n",
       "      <td>0.0</td>\n",
       "      <td>0.0</td>\n",
       "      <td>0.0</td>\n",
       "      <td>0.0</td>\n",
       "      <td>0.0</td>\n",
       "      <td>1.0</td>\n",
       "      <td>0.0</td>\n",
       "      <td>0.0</td>\n",
       "    </tr>\n",
       "    <tr>\n",
       "      <th>3</th>\n",
       "      <td>0.8</td>\n",
       "      <td>0.518325</td>\n",
       "      <td>0.384840</td>\n",
       "      <td>0.529851</td>\n",
       "      <td>0.504274</td>\n",
       "      <td>0.541667</td>\n",
       "      <td>0.329325</td>\n",
       "      <td>0.181132</td>\n",
       "      <td>0.464286</td>\n",
       "      <td>0.633333</td>\n",
       "      <td>...</td>\n",
       "      <td>0.0</td>\n",
       "      <td>0.0</td>\n",
       "      <td>0.0</td>\n",
       "      <td>0.0</td>\n",
       "      <td>0.0</td>\n",
       "      <td>0.0</td>\n",
       "      <td>0.0</td>\n",
       "      <td>1.0</td>\n",
       "      <td>0.0</td>\n",
       "      <td>0.0</td>\n",
       "    </tr>\n",
       "    <tr>\n",
       "      <th>4</th>\n",
       "      <td>0.8</td>\n",
       "      <td>0.518325</td>\n",
       "      <td>0.373178</td>\n",
       "      <td>0.529851</td>\n",
       "      <td>0.521368</td>\n",
       "      <td>0.541667</td>\n",
       "      <td>0.518231</td>\n",
       "      <td>0.283019</td>\n",
       "      <td>0.464286</td>\n",
       "      <td>0.633333</td>\n",
       "      <td>...</td>\n",
       "      <td>0.0</td>\n",
       "      <td>0.0</td>\n",
       "      <td>0.0</td>\n",
       "      <td>0.0</td>\n",
       "      <td>0.0</td>\n",
       "      <td>0.0</td>\n",
       "      <td>0.0</td>\n",
       "      <td>1.0</td>\n",
       "      <td>0.0</td>\n",
       "      <td>0.0</td>\n",
       "    </tr>\n",
       "  </tbody>\n",
       "</table>\n",
       "<p>5 rows × 65 columns</p>\n",
       "</div>"
      ],
      "text/plain": [
       "    0         1         2         3         4         5         6         7   \\\n",
       "0  1.0  0.298429  0.058309  0.413433  0.324786  0.083333  0.411171  0.260377   \n",
       "1  1.0  0.298429  0.058309  0.413433  0.324786  0.083333  0.411171  0.260377   \n",
       "2  0.6  0.298429  0.230321  0.449254  0.444444  0.383333  0.517843  0.343396   \n",
       "3  0.8  0.518325  0.384840  0.529851  0.504274  0.541667  0.329325  0.181132   \n",
       "4  0.8  0.518325  0.373178  0.529851  0.521368  0.541667  0.518231  0.283019   \n",
       "\n",
       "         8         9   ...   55   56   57   58   59   60   61   62   63   64  \n",
       "0  0.664286  0.290476  ...  0.0  0.0  0.0  0.0  0.0  0.0  0.0  1.0  0.0  0.0  \n",
       "1  0.664286  0.290476  ...  0.0  0.0  0.0  0.0  0.0  0.0  0.0  1.0  0.0  0.0  \n",
       "2  0.100000  0.666667  ...  0.0  0.0  0.0  0.0  0.0  0.0  0.0  1.0  0.0  0.0  \n",
       "3  0.464286  0.633333  ...  0.0  0.0  0.0  0.0  0.0  0.0  0.0  1.0  0.0  0.0  \n",
       "4  0.464286  0.633333  ...  0.0  0.0  0.0  0.0  0.0  0.0  0.0  1.0  0.0  0.0  \n",
       "\n",
       "[5 rows x 65 columns]"
      ]
     },
     "execution_count": 368,
     "metadata": {},
     "output_type": "execute_result"
    }
   ],
   "source": [
    "X.head()"
   ]
  },
  {
   "cell_type": "code",
   "execution_count": null,
   "id": "735661f6-31f0-46eb-bffa-b682f313ce74",
   "metadata": {},
   "outputs": [],
   "source": []
  },
  {
   "cell_type": "code",
   "execution_count": 372,
   "id": "a662db7e-211e-4ae7-b269-de250f3a355e",
   "metadata": {},
   "outputs": [],
   "source": [
    "# ОБУЧЕНИЕ МОДЕЛИ И ОЦЕНКА КАЧЕСТВА "
   ]
  },
  {
   "cell_type": "code",
   "execution_count": 374,
   "id": "3ec79383-cf4b-4edb-a6a4-999fb39a3e95",
   "metadata": {},
   "outputs": [],
   "source": [
    "from sklearn.model_selection import train_test_split"
   ]
  },
  {
   "cell_type": "code",
   "execution_count": 377,
   "id": "d81e845e-12b2-481e-8439-a4ad7b331f2f",
   "metadata": {},
   "outputs": [],
   "source": [
    "Xtrain, Xtest, ytrain, ytest = train_test_split(X, y, test_size = 0.25, random_state = 123)"
   ]
  },
  {
   "cell_type": "code",
   "execution_count": 378,
   "id": "3a79a27f-9ecc-4eb0-ba5a-d3a14147b3c5",
   "metadata": {},
   "outputs": [
    {
     "data": {
      "text/html": [
       "<div>\n",
       "<style scoped>\n",
       "    .dataframe tbody tr th:only-of-type {\n",
       "        vertical-align: middle;\n",
       "    }\n",
       "\n",
       "    .dataframe tbody tr th {\n",
       "        vertical-align: top;\n",
       "    }\n",
       "\n",
       "    .dataframe thead th {\n",
       "        text-align: right;\n",
       "    }\n",
       "</style>\n",
       "<table border=\"1\" class=\"dataframe\">\n",
       "  <thead>\n",
       "    <tr style=\"text-align: right;\">\n",
       "      <th></th>\n",
       "      <th>0</th>\n",
       "      <th>1</th>\n",
       "      <th>2</th>\n",
       "      <th>3</th>\n",
       "      <th>4</th>\n",
       "      <th>5</th>\n",
       "      <th>6</th>\n",
       "      <th>7</th>\n",
       "      <th>8</th>\n",
       "      <th>9</th>\n",
       "      <th>...</th>\n",
       "      <th>55</th>\n",
       "      <th>56</th>\n",
       "      <th>57</th>\n",
       "      <th>58</th>\n",
       "      <th>59</th>\n",
       "      <th>60</th>\n",
       "      <th>61</th>\n",
       "      <th>62</th>\n",
       "      <th>63</th>\n",
       "      <th>64</th>\n",
       "    </tr>\n",
       "  </thead>\n",
       "  <tbody>\n",
       "    <tr>\n",
       "      <th>112</th>\n",
       "      <td>0.4</td>\n",
       "      <td>0.502618</td>\n",
       "      <td>0.620991</td>\n",
       "      <td>0.680597</td>\n",
       "      <td>0.692308</td>\n",
       "      <td>0.741667</td>\n",
       "      <td>0.615593</td>\n",
       "      <td>0.222642</td>\n",
       "      <td>0.657143</td>\n",
       "      <td>0.533333</td>\n",
       "      <td>...</td>\n",
       "      <td>0.0</td>\n",
       "      <td>0.0</td>\n",
       "      <td>0.0</td>\n",
       "      <td>0.0</td>\n",
       "      <td>0.0</td>\n",
       "      <td>0.0</td>\n",
       "      <td>0.0</td>\n",
       "      <td>1.0</td>\n",
       "      <td>0.0</td>\n",
       "      <td>0.0</td>\n",
       "    </tr>\n",
       "    <tr>\n",
       "      <th>42</th>\n",
       "      <td>0.4</td>\n",
       "      <td>0.298429</td>\n",
       "      <td>0.224490</td>\n",
       "      <td>0.441791</td>\n",
       "      <td>0.128205</td>\n",
       "      <td>0.475000</td>\n",
       "      <td>0.329325</td>\n",
       "      <td>0.188679</td>\n",
       "      <td>0.550000</td>\n",
       "      <td>0.552381</td>\n",
       "      <td>...</td>\n",
       "      <td>0.0</td>\n",
       "      <td>0.0</td>\n",
       "      <td>0.0</td>\n",
       "      <td>1.0</td>\n",
       "      <td>0.0</td>\n",
       "      <td>0.0</td>\n",
       "      <td>0.0</td>\n",
       "      <td>0.0</td>\n",
       "      <td>0.0</td>\n",
       "      <td>0.0</td>\n",
       "    </tr>\n",
       "    <tr>\n",
       "      <th>193</th>\n",
       "      <td>0.2</td>\n",
       "      <td>0.047120</td>\n",
       "      <td>0.516035</td>\n",
       "      <td>0.711940</td>\n",
       "      <td>0.589744</td>\n",
       "      <td>0.808333</td>\n",
       "      <td>0.602793</td>\n",
       "      <td>0.301887</td>\n",
       "      <td>0.885714</td>\n",
       "      <td>0.514286</td>\n",
       "      <td>...</td>\n",
       "      <td>0.0</td>\n",
       "      <td>0.0</td>\n",
       "      <td>0.0</td>\n",
       "      <td>0.0</td>\n",
       "      <td>0.0</td>\n",
       "      <td>0.0</td>\n",
       "      <td>0.0</td>\n",
       "      <td>1.0</td>\n",
       "      <td>0.0</td>\n",
       "      <td>0.0</td>\n",
       "    </tr>\n",
       "    <tr>\n",
       "      <th>192</th>\n",
       "      <td>0.0</td>\n",
       "      <td>0.198953</td>\n",
       "      <td>0.516035</td>\n",
       "      <td>0.711940</td>\n",
       "      <td>0.589744</td>\n",
       "      <td>0.700000</td>\n",
       "      <td>0.561288</td>\n",
       "      <td>0.301887</td>\n",
       "      <td>0.885714</td>\n",
       "      <td>0.514286</td>\n",
       "      <td>...</td>\n",
       "      <td>0.0</td>\n",
       "      <td>0.0</td>\n",
       "      <td>0.0</td>\n",
       "      <td>0.0</td>\n",
       "      <td>0.0</td>\n",
       "      <td>0.0</td>\n",
       "      <td>0.0</td>\n",
       "      <td>1.0</td>\n",
       "      <td>0.0</td>\n",
       "      <td>0.0</td>\n",
       "    </tr>\n",
       "    <tr>\n",
       "      <th>107</th>\n",
       "      <td>0.4</td>\n",
       "      <td>0.298429</td>\n",
       "      <td>0.804665</td>\n",
       "      <td>0.862687</td>\n",
       "      <td>0.692308</td>\n",
       "      <td>0.908333</td>\n",
       "      <td>0.753297</td>\n",
       "      <td>0.343396</td>\n",
       "      <td>0.828571</td>\n",
       "      <td>0.690476</td>\n",
       "      <td>...</td>\n",
       "      <td>0.0</td>\n",
       "      <td>0.0</td>\n",
       "      <td>0.0</td>\n",
       "      <td>0.0</td>\n",
       "      <td>0.0</td>\n",
       "      <td>1.0</td>\n",
       "      <td>0.0</td>\n",
       "      <td>0.0</td>\n",
       "      <td>0.0</td>\n",
       "      <td>0.0</td>\n",
       "    </tr>\n",
       "  </tbody>\n",
       "</table>\n",
       "<p>5 rows × 65 columns</p>\n",
       "</div>"
      ],
      "text/plain": [
       "      0         1         2         3         4         5         6   \\\n",
       "112  0.4  0.502618  0.620991  0.680597  0.692308  0.741667  0.615593   \n",
       "42   0.4  0.298429  0.224490  0.441791  0.128205  0.475000  0.329325   \n",
       "193  0.2  0.047120  0.516035  0.711940  0.589744  0.808333  0.602793   \n",
       "192  0.0  0.198953  0.516035  0.711940  0.589744  0.700000  0.561288   \n",
       "107  0.4  0.298429  0.804665  0.862687  0.692308  0.908333  0.753297   \n",
       "\n",
       "           7         8         9   ...   55   56   57   58   59   60   61  \\\n",
       "112  0.222642  0.657143  0.533333  ...  0.0  0.0  0.0  0.0  0.0  0.0  0.0   \n",
       "42   0.188679  0.550000  0.552381  ...  0.0  0.0  0.0  1.0  0.0  0.0  0.0   \n",
       "193  0.301887  0.885714  0.514286  ...  0.0  0.0  0.0  0.0  0.0  0.0  0.0   \n",
       "192  0.301887  0.885714  0.514286  ...  0.0  0.0  0.0  0.0  0.0  0.0  0.0   \n",
       "107  0.343396  0.828571  0.690476  ...  0.0  0.0  0.0  0.0  0.0  1.0  0.0   \n",
       "\n",
       "      62   63   64  \n",
       "112  1.0  0.0  0.0  \n",
       "42   0.0  0.0  0.0  \n",
       "193  1.0  0.0  0.0  \n",
       "192  1.0  0.0  0.0  \n",
       "107  0.0  0.0  0.0  \n",
       "\n",
       "[5 rows x 65 columns]"
      ]
     },
     "execution_count": 378,
     "metadata": {},
     "output_type": "execute_result"
    }
   ],
   "source": [
    "Xtrain.head()"
   ]
  },
  {
   "cell_type": "code",
   "execution_count": 379,
   "id": "ac7f1f1a-648f-40a5-bea0-44c6b6111dd0",
   "metadata": {},
   "outputs": [],
   "source": [
    "# сначала обучим классическую линейную регрессию, работающую по аналитической формуле"
   ]
  },
  {
   "cell_type": "code",
   "execution_count": 382,
   "id": "25dd4916-d9f9-43aa-a649-534352dcf5f2",
   "metadata": {},
   "outputs": [],
   "source": [
    "from sklearn.linear_model import LinearRegression"
   ]
  },
  {
   "cell_type": "code",
   "execution_count": 383,
   "id": "3dd6bbd9-f735-4033-8362-aa03d9fd4b5f",
   "metadata": {},
   "outputs": [
    {
     "data": {
      "text/html": [
       "<style>#sk-container-id-3 {color: black;}#sk-container-id-3 pre{padding: 0;}#sk-container-id-3 div.sk-toggleable {background-color: white;}#sk-container-id-3 label.sk-toggleable__label {cursor: pointer;display: block;width: 100%;margin-bottom: 0;padding: 0.3em;box-sizing: border-box;text-align: center;}#sk-container-id-3 label.sk-toggleable__label-arrow:before {content: \"▸\";float: left;margin-right: 0.25em;color: #696969;}#sk-container-id-3 label.sk-toggleable__label-arrow:hover:before {color: black;}#sk-container-id-3 div.sk-estimator:hover label.sk-toggleable__label-arrow:before {color: black;}#sk-container-id-3 div.sk-toggleable__content {max-height: 0;max-width: 0;overflow: hidden;text-align: left;background-color: #f0f8ff;}#sk-container-id-3 div.sk-toggleable__content pre {margin: 0.2em;color: black;border-radius: 0.25em;background-color: #f0f8ff;}#sk-container-id-3 input.sk-toggleable__control:checked~div.sk-toggleable__content {max-height: 200px;max-width: 100%;overflow: auto;}#sk-container-id-3 input.sk-toggleable__control:checked~label.sk-toggleable__label-arrow:before {content: \"▾\";}#sk-container-id-3 div.sk-estimator input.sk-toggleable__control:checked~label.sk-toggleable__label {background-color: #d4ebff;}#sk-container-id-3 div.sk-label input.sk-toggleable__control:checked~label.sk-toggleable__label {background-color: #d4ebff;}#sk-container-id-3 input.sk-hidden--visually {border: 0;clip: rect(1px 1px 1px 1px);clip: rect(1px, 1px, 1px, 1px);height: 1px;margin: -1px;overflow: hidden;padding: 0;position: absolute;width: 1px;}#sk-container-id-3 div.sk-estimator {font-family: monospace;background-color: #f0f8ff;border: 1px dotted black;border-radius: 0.25em;box-sizing: border-box;margin-bottom: 0.5em;}#sk-container-id-3 div.sk-estimator:hover {background-color: #d4ebff;}#sk-container-id-3 div.sk-parallel-item::after {content: \"\";width: 100%;border-bottom: 1px solid gray;flex-grow: 1;}#sk-container-id-3 div.sk-label:hover label.sk-toggleable__label {background-color: #d4ebff;}#sk-container-id-3 div.sk-serial::before {content: \"\";position: absolute;border-left: 1px solid gray;box-sizing: border-box;top: 0;bottom: 0;left: 50%;z-index: 0;}#sk-container-id-3 div.sk-serial {display: flex;flex-direction: column;align-items: center;background-color: white;padding-right: 0.2em;padding-left: 0.2em;position: relative;}#sk-container-id-3 div.sk-item {position: relative;z-index: 1;}#sk-container-id-3 div.sk-parallel {display: flex;align-items: stretch;justify-content: center;background-color: white;position: relative;}#sk-container-id-3 div.sk-item::before, #sk-container-id-3 div.sk-parallel-item::before {content: \"\";position: absolute;border-left: 1px solid gray;box-sizing: border-box;top: 0;bottom: 0;left: 50%;z-index: -1;}#sk-container-id-3 div.sk-parallel-item {display: flex;flex-direction: column;z-index: 1;position: relative;background-color: white;}#sk-container-id-3 div.sk-parallel-item:first-child::after {align-self: flex-end;width: 50%;}#sk-container-id-3 div.sk-parallel-item:last-child::after {align-self: flex-start;width: 50%;}#sk-container-id-3 div.sk-parallel-item:only-child::after {width: 0;}#sk-container-id-3 div.sk-dashed-wrapped {border: 1px dashed gray;margin: 0 0.4em 0.5em 0.4em;box-sizing: border-box;padding-bottom: 0.4em;background-color: white;}#sk-container-id-3 div.sk-label label {font-family: monospace;font-weight: bold;display: inline-block;line-height: 1.2em;}#sk-container-id-3 div.sk-label-container {text-align: center;}#sk-container-id-3 div.sk-container {/* jupyter's `normalize.less` sets `[hidden] { display: none; }` but bootstrap.min.css set `[hidden] { display: none !important; }` so we also need the `!important` here to be able to override the default hidden behavior on the sphinx rendered scikit-learn.org. See: https://github.com/scikit-learn/scikit-learn/issues/21755 */display: inline-block !important;position: relative;}#sk-container-id-3 div.sk-text-repr-fallback {display: none;}</style><div id=\"sk-container-id-3\" class=\"sk-top-container\"><div class=\"sk-text-repr-fallback\"><pre>LinearRegression()</pre><b>In a Jupyter environment, please rerun this cell to show the HTML representation or trust the notebook. <br />On GitHub, the HTML representation is unable to render, please try loading this page with nbviewer.org.</b></div><div class=\"sk-container\" hidden><div class=\"sk-item\"><div class=\"sk-estimator sk-toggleable\"><input class=\"sk-toggleable__control sk-hidden--visually\" id=\"sk-estimator-id-3\" type=\"checkbox\" checked><label for=\"sk-estimator-id-3\" class=\"sk-toggleable__label sk-toggleable__label-arrow\">LinearRegression</label><div class=\"sk-toggleable__content\"><pre>LinearRegression()</pre></div></div></div></div></div>"
      ],
      "text/plain": [
       "LinearRegression()"
      ]
     },
     "execution_count": 383,
     "metadata": {},
     "output_type": "execute_result"
    }
   ],
   "source": [
    "model = LinearRegression()\n",
    "model.fit(Xtrain, ytrain)"
   ]
  },
  {
   "cell_type": "code",
   "execution_count": 385,
   "id": "8099e187-8308-42da-806a-6ab3c38c062a",
   "metadata": {},
   "outputs": [
    {
     "data": {
      "text/plain": [
       "array([7.12875000e+03, 5.89625000e+03, 9.85537500e+03, 5.01275000e+03,\n",
       "       7.36387500e+03, 8.85062500e+03, 1.10387500e+04, 1.35125000e+04,\n",
       "       1.10177500e+04, 8.02662500e+03, 8.73462500e+03, 4.68412500e+03,\n",
       "       4.16075000e+03, 8.83387500e+03, 1.21561250e+04, 5.49500000e+03,\n",
       "       1.51466250e+04, 8.99250000e+03, 1.20415000e+04, 6.47562500e+03,\n",
       "       8.96512500e+03, 5.65325000e+03, 8.85812500e+03, 8.64100000e+03,\n",
       "       1.17221250e+04, 9.33728816e+15, 9.30675000e+03, 1.17802500e+04,\n",
       "       7.43275000e+03, 1.35125000e+04, 1.37407500e+04, 5.67350000e+03,\n",
       "       1.53300000e+04, 1.73376250e+04, 8.06687500e+03, 9.09462500e+03,\n",
       "       1.54707500e+04, 7.71862500e+03, 4.99037500e+03, 2.73461250e+04,\n",
       "       7.10625000e+03, 8.09707125e+16, 6.27337500e+03, 8.27750000e+03,\n",
       "       6.14325000e+03, 9.00600000e+03, 1.57621250e+04, 1.74781250e+04,\n",
       "       1.03748750e+04, 3.93265000e+04, 9.83537500e+03])"
      ]
     },
     "execution_count": 385,
     "metadata": {},
     "output_type": "execute_result"
    }
   ],
   "source": [
    "pred_mse = model.predict(Xtest)\n",
    "pred_mse"
   ]
  },
  {
   "cell_type": "code",
   "execution_count": 387,
   "id": "87a8d304-6a09-4bf3-89ae-7af98cd8addf",
   "metadata": {},
   "outputs": [],
   "source": [
    "from sklearn.metrics import r2_score"
   ]
  },
  {
   "cell_type": "code",
   "execution_count": 391,
   "id": "5e5c4698-bfb2-4029-a5ec-c4d90c313549",
   "metadata": {},
   "outputs": [
    {
     "data": {
      "text/plain": [
       "-3.6933928168749564e+24"
      ]
     },
     "execution_count": 391,
     "metadata": {},
     "output_type": "execute_result"
    }
   ],
   "source": [
    "r2_score(ytest, pred_mse)\n",
    "# это очень большое отицательное число \n",
    "# это означает, что наша модель очень плохо предсказывает значение на тесте"
   ]
  },
  {
   "cell_type": "code",
   "execution_count": 393,
   "id": "2b9df569-cead-499b-97a1-197da705aec4",
   "metadata": {},
   "outputs": [
    {
     "data": {
      "text/plain": [
       "0.9753029887276083"
      ]
     },
     "execution_count": 393,
     "metadata": {},
     "output_type": "execute_result"
    }
   ],
   "source": [
    "r2_score(ytrain, model.predict(Xtrain))\n",
    "# а тут все очень хорошо"
   ]
  },
  {
   "cell_type": "code",
   "execution_count": 467,
   "id": "43b80897-3041-4d13-ac8e-c8cefadfeea9",
   "metadata": {},
   "outputs": [
    {
     "data": {
      "text/plain": [
       "(array([ 1.,  0.,  0.,  0., 31., 31.,  0.,  0.,  0.,  2.]),\n",
       " array([-9.55229187e+16, -7.64183349e+16, -5.73137512e+16, -3.82091675e+16,\n",
       "        -1.91045837e+16,  2.49600000e+03,  1.91045837e+16,  3.82091675e+16,\n",
       "         5.73137512e+16,  7.64183349e+16,  9.55229187e+16]),\n",
       " <BarContainer object of 10 artists>)"
      ]
     },
     "execution_count": 467,
     "metadata": {},
     "output_type": "execute_result"
    },
    {
     "data": {
      "image/png": "[encoded data removed]",
      "text/plain": [
       "<Figure size 640x480 with 1 Axes>"
      ]
     },
     "metadata": {},
     "output_type": "display_data"
    }
   ],
   "source": [
    "from matplotlib import pyplot as plt\n",
    "import seaborn as sns\n",
    "\n",
    "plt.hist(model.coef_, bins = 10)"
   ]
  },
  {
   "cell_type": "code",
   "execution_count": null,
   "id": "cc0ce226-13d6-4251-addf-b528221e4ca0",
   "metadata": {},
   "outputs": [],
   "source": []
  },
  {
   "cell_type": "code",
   "execution_count": 470,
   "id": "81c5e723-e1a9-4f0d-8915-b5ac5e6d0234",
   "metadata": {},
   "outputs": [],
   "source": [
    "# то есть мы очень сильно переобучились\n",
    "# почему так? скорее всего потому что у нас 201 объект и ЦЕЛЫХ 65 признаков - это очень маленькая выборка и очень большое количество \n",
    "# признаков"
   ]
  },
  {
   "cell_type": "code",
   "execution_count": 471,
   "id": "454cc05e-f69a-4bc8-8261-a3b43ef47223",
   "metadata": {},
   "outputs": [],
   "source": [
    "# добавим регуляризацию\n",
    "# L1 - регуляризация: Lasso\n",
    "# L2 - регуляризация: Ridge\n",
    "# L1 + L2: ElasticNet"
   ]
  },
  {
   "cell_type": "code",
   "execution_count": 473,
   "id": "18710055-0d76-4cbc-a846-3c47ad8d2bd9",
   "metadata": {},
   "outputs": [],
   "source": [
    "from sklearn.linear_model import Ridge, Lasso"
   ]
  },
  {
   "cell_type": "code",
   "execution_count": 475,
   "id": "8668f0af-c2e1-4109-a555-68b032c1aa4e",
   "metadata": {},
   "outputs": [
    {
     "data": {
      "text/plain": [
       "0.8315766274428091"
      ]
     },
     "execution_count": 475,
     "metadata": {},
     "output_type": "execute_result"
    }
   ],
   "source": [
    "model_12 = Ridge(alpha = 1)\n",
    "model_12.fit(Xtrain, ytrain)\n",
    "pred_12 = model_12.predict(Xtest)\n",
    "r2_score(ytest, pred_12)"
   ]
  },
  {
   "cell_type": "code",
   "execution_count": 477,
   "id": "f28e4202-c517-46d8-9ff2-c259e65cdb90",
   "metadata": {},
   "outputs": [
    {
     "data": {
      "text/plain": [
       "0.9533372216376617"
      ]
     },
     "execution_count": 477,
     "metadata": {},
     "output_type": "execute_result"
    }
   ],
   "source": [
    "r2_score(ytrain, model_12.predict(Xtrain))"
   ]
  },
  {
   "cell_type": "code",
   "execution_count": 479,
   "id": "df83286c-e766-4a09-aee4-9c657894124c",
   "metadata": {},
   "outputs": [],
   "source": [
    "# делаем вывод: мы уже не переобучились, мы исправили ситуацию в лучшую сторону"
   ]
  },
  {
   "cell_type": "code",
   "execution_count": 485,
   "id": "581a8dfd-d725-48a8-8e30-efdc8e02e2c8",
   "metadata": {},
   "outputs": [
    {
     "data": {
      "text/plain": [
       "(array([ 1.,  5.,  9., 19., 12.,  9.,  1.,  1.,  5.,  3.]),\n",
       " array([-4353.24537862, -3311.54722533, -2269.84907203, -1228.15091873,\n",
       "         -186.45276543,   855.24538786,  1896.94354116,  2938.64169446,\n",
       "         3980.33984776,  5022.03800105,  6063.73615435]),\n",
       " <BarContainer object of 10 artists>)"
      ]
     },
     "execution_count": 485,
     "metadata": {},
     "output_type": "execute_result"
    },
    {
     "data": {
      "image/png": "[encoded data removed]",
      "text/plain": [
       "<Figure size 640x480 with 1 Axes>"
      ]
     },
     "metadata": {},
     "output_type": "display_data"
    }
   ],
   "source": [
    "plt.hist(model_12.coef_, bins = 10)"
   ]
  },
  {
   "cell_type": "code",
   "execution_count": 487,
   "id": "9e80a48b-c129-463c-aaf3-d7234436ccc4",
   "metadata": {},
   "outputs": [],
   "source": [
    "# видим по рисункам, что веса снизились"
   ]
  },
  {
   "cell_type": "code",
   "execution_count": null,
   "id": "af4ff15f-fb8d-4cde-a313-b1bbbc7187d0",
   "metadata": {},
   "outputs": [],
   "source": []
  },
  {
   "cell_type": "code",
   "execution_count": 489,
   "id": "26c9fd07-ab30-4e91-9c56-8fa8d30e5747",
   "metadata": {},
   "outputs": [],
   "source": [
    "# можно обучать модель градиентным спуском"
   ]
  },
  {
   "cell_type": "code",
   "execution_count": 491,
   "id": "5c5449c2-1e52-49cb-b1a4-42065d7b6a6b",
   "metadata": {},
   "outputs": [],
   "source": [
    "from sklearn.linear_model import SGDRegressor"
   ]
  },
  {
   "cell_type": "code",
   "execution_count": 493,
   "id": "acc1b1ff-3a88-4c3a-a12a-6c2928e8e42d",
   "metadata": {},
   "outputs": [
    {
     "data": {
      "text/plain": [
       "0.8221763275215017"
      ]
     },
     "execution_count": 493,
     "metadata": {},
     "output_type": "execute_result"
    }
   ],
   "source": [
    "lr_mse = SGDRegressor()\n",
    "lr_mse.fit(Xtrain, ytrain)\n",
    "pred_mse = lr_mse.predict(Xtest)\n",
    "r2_score(ytest, pred_mse)"
   ]
  },
  {
   "cell_type": "code",
   "execution_count": 495,
   "id": "866aca48-23c3-42fc-ada3-9fda46011a1b",
   "metadata": {},
   "outputs": [],
   "source": [
    "# можно использовать не MSE, а MAE при обучении модели"
   ]
  },
  {
   "cell_type": "code",
   "execution_count": 503,
   "id": "a6fd8f42-1e4a-41e9-b4cc-9a187ff8d31f",
   "metadata": {},
   "outputs": [
    {
     "name": "stderr",
     "output_type": "stream",
     "text": [
      "/opt/conda/envs/anaconda-2024.02-py310/lib/python3.10/site-packages/sklearn/linear_model/_stochastic_gradient.py:1561: ConvergenceWarning: Maximum number of iteration reached before convergence. Consider increasing max_iter to improve the fit.\n",
      "  warnings.warn(\n"
     ]
    },
    {
     "data": {
      "text/plain": [
       "0.8221763275215017"
      ]
     },
     "execution_count": 503,
     "metadata": {},
     "output_type": "execute_result"
    }
   ],
   "source": [
    "lr_mae = SGDRegressor(loss = 'epsilon_insensitive', epsilon = 0)\n",
    "lr_mae.fit(Xtrain, ytrain)\n",
    "pred_mae = lr_mae.predict(Xtest)\n",
    "r2_score(ytest, pred_mse)"
   ]
  },
  {
   "cell_type": "code",
   "execution_count": null,
   "id": "33747aa5-033f-494c-b2a1-ea423fba6447",
   "metadata": {},
   "outputs": [],
   "source": []
  },
  {
   "cell_type": "code",
   "execution_count": 508,
   "id": "7fbea868-e4e5-44ec-9544-b27796cb8dec",
   "metadata": {},
   "outputs": [],
   "source": [
    "# небольшое отступление. Среднеквадратичная и средняя абсолютная ошибка\n",
    "# Кроме требований заказчика, функцоинал качества должен учитывать матмематические особенности модели, например, устойчивость\n",
    "# к шумовым объектам. В линейной регрессии Mean Squared Erroe: L(yi, a(xi)) = (a(xi) - yi) ** 2 не обладает этим свойством, потому что \n",
    "# задает очень большие штрафы за большие отклонения от фактического значения. \n",
    "# Рассмотрим это явление на примере. Выберем один признак, от которго целевой признак (имеющий индекс 15 в матрице X) зависит практически\n",
    "# линейно. Добавим к выборке два объекта-выборса и посмотрим как изменится оптимизированная на MSE прямая"
   ]
  },
  {
   "cell_type": "code",
   "execution_count": 510,
   "id": "362ba183-8590-4689-aea2-d49eafaca8ec",
   "metadata": {},
   "outputs": [],
   "source": [
    "from matplotlib import pyplot as plt\n",
    "%matplotlib inline\n",
    "from sklearn.linear_model import LinearRegression as LR\n",
    "import numpy as np"
   ]
  },
  {
   "cell_type": "code",
   "execution_count": 512,
   "id": "9bc3b39b-7b36-4cbc-863a-e90445d494c4",
   "metadata": {},
   "outputs": [
    {
     "data": {
      "text/plain": [
       "array([0., 0., 0., 1., 1., 1., 1., 1., 1., 0., 0., 0., 0., 0., 0., 0., 0.,\n",
       "       0., 0., 0., 0., 0., 0., 0., 0., 0., 0., 0., 0., 0., 0., 0., 0., 0.,\n",
       "       0., 0., 0., 0., 0., 0., 0., 0., 0., 0., 0., 0., 0., 0., 0., 0., 0.,\n",
       "       0., 0., 0., 0., 0., 0., 0., 0., 0., 0., 0., 0., 0., 0., 0., 0., 0.,\n",
       "       0., 0., 0., 0., 0., 0., 0., 0., 0., 0., 0., 0., 0., 0., 0., 0., 0.,\n",
       "       0., 0., 0., 0., 0., 0., 0., 0., 0., 0., 0., 0., 0., 0., 0., 0., 0.,\n",
       "       0., 0., 0., 0., 0., 0., 0., 0., 0., 0., 0., 0., 0., 0., 0., 0., 0.,\n",
       "       0., 0., 0., 0., 0., 0., 0., 0., 0., 0., 0., 0., 0., 0., 0., 0., 0.,\n",
       "       0., 0., 0., 0., 0., 0., 0., 0., 0., 0., 0., 0., 0., 0., 0., 0., 0.,\n",
       "       0., 0., 0., 0., 0., 0., 0., 0., 0., 0., 0., 0., 0., 0., 0., 0., 0.,\n",
       "       0., 0., 0., 0., 0., 0., 0., 0., 0., 0., 0., 0., 0., 0., 0., 0., 0.,\n",
       "       0., 0., 0., 0., 0., 0., 0., 0., 0., 0., 0., 0., 0., 0.])"
      ]
     },
     "execution_count": 512,
     "metadata": {},
     "output_type": "execute_result"
    }
   ],
   "source": [
    "X[15].values"
   ]
  },
  {
   "cell_type": "code",
   "execution_count": 520,
   "id": "29c913fc-f9c5-4d75-85be-d1e5f0c901b6",
   "metadata": {},
   "outputs": [
    {
     "data": {
      "text/plain": [
       "array([[2.60377358e-01, 0.00000000e+00],\n",
       "       [2.60377358e-01, 0.00000000e+00],\n",
       "       [3.43396226e-01, 0.00000000e+00],\n",
       "       [1.81132075e-01, 1.00000000e+00],\n",
       "       [2.83018868e-01, 1.00000000e+00],\n",
       "       [2.83018868e-01, 1.00000000e+00],\n",
       "       [2.83018868e-01, 1.00000000e+00],\n",
       "       [2.83018868e-01, 1.00000000e+00],\n",
       "       [2.64150943e-01, 1.00000000e+00],\n",
       "       [1.77358491e-01, 0.00000000e+00],\n",
       "       [1.77358491e-01, 0.00000000e+00],\n",
       "       [3.88679245e-01, 0.00000000e+00],\n",
       "       [3.88679245e-01, 0.00000000e+00],\n",
       "       [3.88679245e-01, 0.00000000e+00],\n",
       "       [5.58490566e-01, 0.00000000e+00],\n",
       "       [5.58490566e-01, 0.00000000e+00],\n",
       "       [5.58490566e-01, 0.00000000e+00],\n",
       "       [0.00000000e+00, 0.00000000e+00],\n",
       "       [1.09433962e-01, 0.00000000e+00],\n",
       "       [1.09433962e-01, 0.00000000e+00],\n",
       "       [1.09433962e-01, 0.00000000e+00],\n",
       "       [1.09433962e-01, 0.00000000e+00],\n",
       "       [1.39622642e-01, 0.00000000e+00],\n",
       "       [1.09433962e-01, 0.00000000e+00],\n",
       "       [1.09433962e-01, 0.00000000e+00],\n",
       "       [1.09433962e-01, 0.00000000e+00],\n",
       "       [1.39622642e-01, 0.00000000e+00],\n",
       "       [2.30188679e-01, 0.00000000e+00],\n",
       "       [3.58490566e-01, 0.00000000e+00],\n",
       "       [1.16981132e-01, 0.00000000e+00],\n",
       "       [1.16981132e-01, 0.00000000e+00],\n",
       "       [6.79245283e-02, 0.00000000e+00],\n",
       "       [1.16981132e-01, 0.00000000e+00],\n",
       "       [1.16981132e-01, 0.00000000e+00],\n",
       "       [1.16981132e-01, 0.00000000e+00],\n",
       "       [1.16981132e-01, 0.00000000e+00],\n",
       "       [1.84905660e-01, 0.00000000e+00],\n",
       "       [1.84905660e-01, 0.00000000e+00],\n",
       "       [1.84905660e-01, 0.00000000e+00],\n",
       "       [1.84905660e-01, 0.00000000e+00],\n",
       "       [1.84905660e-01, 0.00000000e+00],\n",
       "       [1.84905660e-01, 0.00000000e+00],\n",
       "       [1.88679245e-01, 0.00000000e+00],\n",
       "       [2.18867925e-01, 0.00000000e+00],\n",
       "       [7.43396226e-01, 0.00000000e+00],\n",
       "       [7.43396226e-01, 0.00000000e+00],\n",
       "       [1.00000000e+00, 0.00000000e+00],\n",
       "       [1.13207547e-01, 0.00000000e+00],\n",
       "       [1.13207547e-01, 0.00000000e+00],\n",
       "       [1.13207547e-01, 0.00000000e+00],\n",
       "       [1.13207547e-01, 0.00000000e+00],\n",
       "       [1.13207547e-01, 0.00000000e+00],\n",
       "       [3.39622642e-02, 0.00000000e+00],\n",
       "       [3.39622642e-02, 0.00000000e+00],\n",
       "       [3.39622642e-02, 0.00000000e+00],\n",
       "       [7.16981132e-02, 0.00000000e+00],\n",
       "       [2.30188679e-01, 0.00000000e+00],\n",
       "       [2.30188679e-01, 0.00000000e+00],\n",
       "       [2.30188679e-01, 0.00000000e+00],\n",
       "       [2.30188679e-01, 0.00000000e+00],\n",
       "       [2.30188679e-01, 0.00000000e+00],\n",
       "       [2.30188679e-01, 0.00000000e+00],\n",
       "       [2.98113208e-01, 0.00000000e+00],\n",
       "       [2.75471698e-01, 0.00000000e+00],\n",
       "       [4.60377358e-01, 0.00000000e+00],\n",
       "       [4.60377358e-01, 0.00000000e+00],\n",
       "       [4.60377358e-01, 0.00000000e+00],\n",
       "       [4.60377358e-01, 0.00000000e+00],\n",
       "       [6.52830189e-01, 0.00000000e+00],\n",
       "       [6.52830189e-01, 0.00000000e+00],\n",
       "       [9.32075472e-01, 0.00000000e+00],\n",
       "       [9.16981132e-01, 0.00000000e+00],\n",
       "       [2.98113208e-01, 0.00000000e+00],\n",
       "       [1.16981132e-01, 0.00000000e+00],\n",
       "       [1.16981132e-01, 0.00000000e+00],\n",
       "       [1.16981132e-01, 0.00000000e+00],\n",
       "       [1.39622642e-01, 0.00000000e+00],\n",
       "       [1.84905660e-01, 0.00000000e+00],\n",
       "       [2.30188679e-01, 0.00000000e+00],\n",
       "       [3.58490566e-01, 0.00000000e+00],\n",
       "       [3.58490566e-01, 0.00000000e+00],\n",
       "       [3.58490566e-01, 0.00000000e+00],\n",
       "       [2.30188679e-01, 0.00000000e+00],\n",
       "       [2.30188679e-01, 0.00000000e+00],\n",
       "       [1.84905660e-01, 0.00000000e+00],\n",
       "       [1.84905660e-01, 0.00000000e+00],\n",
       "       [1.35849057e-01, 0.00000000e+00],\n",
       "       [1.58490566e-01, 0.00000000e+00],\n",
       "       [1.35849057e-01, 0.00000000e+00],\n",
       "       [1.35849057e-01, 0.00000000e+00],\n",
       "       [1.35849057e-01, 0.00000000e+00],\n",
       "       [1.35849057e-01, 0.00000000e+00],\n",
       "       [1.35849057e-01, 0.00000000e+00],\n",
       "       [1.35849057e-01, 0.00000000e+00],\n",
       "       [1.35849057e-01, 0.00000000e+00],\n",
       "       [1.35849057e-01, 0.00000000e+00],\n",
       "       [2.22641509e-01, 0.00000000e+00],\n",
       "       [2.22641509e-01, 0.00000000e+00],\n",
       "       [4.52830189e-01, 0.00000000e+00],\n",
       "       [4.52830189e-01, 0.00000000e+00],\n",
       "       [4.52830189e-01, 0.00000000e+00],\n",
       "       [4.52830189e-01, 0.00000000e+00],\n",
       "       [4.52830189e-01, 0.00000000e+00],\n",
       "       [4.52830189e-01, 0.00000000e+00],\n",
       "       [2.22641509e-01, 0.00000000e+00],\n",
       "       [3.43396226e-01, 0.00000000e+00],\n",
       "       [2.22641509e-01, 0.00000000e+00],\n",
       "       [3.43396226e-01, 0.00000000e+00],\n",
       "       [2.22641509e-01, 0.00000000e+00],\n",
       "       [3.43396226e-01, 0.00000000e+00],\n",
       "       [2.22641509e-01, 0.00000000e+00],\n",
       "       [3.43396226e-01, 0.00000000e+00],\n",
       "       [2.22641509e-01, 0.00000000e+00],\n",
       "       [3.43396226e-01, 0.00000000e+00],\n",
       "       [2.75471698e-01, 0.00000000e+00],\n",
       "       [1.09433962e-01, 0.00000000e+00],\n",
       "       [1.39622642e-01, 0.00000000e+00],\n",
       "       [1.09433962e-01, 0.00000000e+00],\n",
       "       [1.09433962e-01, 0.00000000e+00],\n",
       "       [1.39622642e-01, 0.00000000e+00],\n",
       "       [2.30188679e-01, 0.00000000e+00],\n",
       "       [3.58490566e-01, 0.00000000e+00],\n",
       "       [3.39622642e-01, 0.00000000e+00],\n",
       "       [5.01886792e-01, 0.00000000e+00],\n",
       "       [5.01886792e-01, 0.00000000e+00],\n",
       "       [5.01886792e-01, 0.00000000e+00],\n",
       "       [2.67924528e-01, 0.00000000e+00],\n",
       "       [2.67924528e-01, 0.00000000e+00],\n",
       "       [2.26415094e-01, 0.00000000e+00],\n",
       "       [2.26415094e-01, 0.00000000e+00],\n",
       "       [2.26415094e-01, 0.00000000e+00],\n",
       "       [2.26415094e-01, 0.00000000e+00],\n",
       "       [2.26415094e-01, 0.00000000e+00],\n",
       "       [2.26415094e-01, 0.00000000e+00],\n",
       "       [1.35849057e-01, 0.00000000e+00],\n",
       "       [1.77358491e-01, 0.00000000e+00],\n",
       "       [1.77358491e-01, 0.00000000e+00],\n",
       "       [1.77358491e-01, 0.00000000e+00],\n",
       "       [1.77358491e-01, 0.00000000e+00],\n",
       "       [1.77358491e-01, 0.00000000e+00],\n",
       "       [1.77358491e-01, 0.00000000e+00],\n",
       "       [1.77358491e-01, 0.00000000e+00],\n",
       "       [1.77358491e-01, 0.00000000e+00],\n",
       "       [1.77358491e-01, 0.00000000e+00],\n",
       "       [1.77358491e-01, 0.00000000e+00],\n",
       "       [1.77358491e-01, 0.00000000e+00],\n",
       "       [1.16981132e-01, 0.00000000e+00],\n",
       "       [1.16981132e-01, 0.00000000e+00],\n",
       "       [1.16981132e-01, 0.00000000e+00],\n",
       "       [1.16981132e-01, 0.00000000e+00],\n",
       "       [1.16981132e-01, 0.00000000e+00],\n",
       "       [1.16981132e-01, 0.00000000e+00],\n",
       "       [1.39622642e-01, 0.00000000e+00],\n",
       "       [1.39622642e-01, 0.00000000e+00],\n",
       "       [1.84905660e-01, 0.00000000e+00],\n",
       "       [1.84905660e-01, 0.00000000e+00],\n",
       "       [1.39622642e-01, 0.00000000e+00],\n",
       "       [1.39622642e-01, 0.00000000e+00],\n",
       "       [1.39622642e-01, 0.00000000e+00],\n",
       "       [1.39622642e-01, 0.00000000e+00],\n",
       "       [1.39622642e-01, 0.00000000e+00],\n",
       "       [1.39622642e-01, 0.00000000e+00],\n",
       "       [1.39622642e-01, 0.00000000e+00],\n",
       "       [3.20754717e-01, 0.00000000e+00],\n",
       "       [3.20754717e-01, 0.00000000e+00],\n",
       "       [3.20754717e-01, 0.00000000e+00],\n",
       "       [3.20754717e-01, 0.00000000e+00],\n",
       "       [3.20754717e-01, 0.00000000e+00],\n",
       "       [3.20754717e-01, 0.00000000e+00],\n",
       "       [2.30188679e-01, 0.00000000e+00],\n",
       "       [1.84905660e-01, 0.00000000e+00],\n",
       "       [2.30188679e-01, 0.00000000e+00],\n",
       "       [2.30188679e-01, 0.00000000e+00],\n",
       "       [2.30188679e-01, 0.00000000e+00],\n",
       "       [4.15094340e-01, 0.00000000e+00],\n",
       "       [4.15094340e-01, 0.00000000e+00],\n",
       "       [4.15094340e-01, 0.00000000e+00],\n",
       "       [3.77358491e-01, 0.00000000e+00],\n",
       "       [1.35849057e-01, 0.00000000e+00],\n",
       "       [1.81132075e-01, 0.00000000e+00],\n",
       "       [1.35849057e-01, 0.00000000e+00],\n",
       "       [1.81132075e-01, 0.00000000e+00],\n",
       "       [1.81132075e-01, 0.00000000e+00],\n",
       "       [1.35849057e-01, 0.00000000e+00],\n",
       "       [1.81132075e-01, 0.00000000e+00],\n",
       "       [1.81132075e-01, 0.00000000e+00],\n",
       "       [1.81132075e-01, 0.00000000e+00],\n",
       "       [2.83018868e-01, 0.00000000e+00],\n",
       "       [1.35849057e-01, 0.00000000e+00],\n",
       "       [1.81132075e-01, 0.00000000e+00],\n",
       "       [3.01886792e-01, 0.00000000e+00],\n",
       "       [3.01886792e-01, 0.00000000e+00],\n",
       "       [3.01886792e-01, 0.00000000e+00],\n",
       "       [3.01886792e-01, 0.00000000e+00],\n",
       "       [2.60377358e-01, 0.00000000e+00],\n",
       "       [2.60377358e-01, 0.00000000e+00],\n",
       "       [3.01886792e-01, 0.00000000e+00],\n",
       "       [3.01886792e-01, 0.00000000e+00],\n",
       "       [4.22641509e-01, 0.00000000e+00],\n",
       "       [3.16981132e-01, 0.00000000e+00],\n",
       "       [3.01886792e-01, 0.00000000e+00],\n",
       "       [1.00000000e+00, 9.00000000e+01],\n",
       "       [2.00000000e+00, 5.00000000e+01]])"
      ]
     },
     "execution_count": 520,
     "metadata": {},
     "output_type": "execute_result"
    }
   ],
   "source": [
    "X_subset = X[[7, 15]].values\n",
    "X_subset_modified = np.vstack((X_subset, [[1, 90], [2, 50]]))\n",
    "X_subset_modified"
   ]
  },
  {
   "cell_type": "code",
   "execution_count": 522,
   "id": "e2171c37-f7f4-4c16-a4b6-04a3d5381da8",
   "metadata": {},
   "outputs": [
    {
     "data": {
      "text/plain": [
       "array([[0.26037736, 0.        ],\n",
       "       [0.26037736, 0.        ],\n",
       "       [0.34339623, 0.        ],\n",
       "       [0.18113208, 1.        ],\n",
       "       [0.28301887, 1.        ],\n",
       "       [0.28301887, 1.        ],\n",
       "       [0.28301887, 1.        ],\n",
       "       [0.28301887, 1.        ],\n",
       "       [0.26415094, 1.        ],\n",
       "       [0.17735849, 0.        ],\n",
       "       [0.17735849, 0.        ],\n",
       "       [0.38867925, 0.        ],\n",
       "       [0.38867925, 0.        ],\n",
       "       [0.38867925, 0.        ],\n",
       "       [0.55849057, 0.        ],\n",
       "       [0.55849057, 0.        ],\n",
       "       [0.55849057, 0.        ],\n",
       "       [0.        , 0.        ],\n",
       "       [0.10943396, 0.        ],\n",
       "       [0.10943396, 0.        ],\n",
       "       [0.10943396, 0.        ],\n",
       "       [0.10943396, 0.        ],\n",
       "       [0.13962264, 0.        ],\n",
       "       [0.10943396, 0.        ],\n",
       "       [0.10943396, 0.        ],\n",
       "       [0.10943396, 0.        ],\n",
       "       [0.13962264, 0.        ],\n",
       "       [0.23018868, 0.        ],\n",
       "       [0.35849057, 0.        ],\n",
       "       [0.11698113, 0.        ],\n",
       "       [0.11698113, 0.        ],\n",
       "       [0.06792453, 0.        ],\n",
       "       [0.11698113, 0.        ],\n",
       "       [0.11698113, 0.        ],\n",
       "       [0.11698113, 0.        ],\n",
       "       [0.11698113, 0.        ],\n",
       "       [0.18490566, 0.        ],\n",
       "       [0.18490566, 0.        ],\n",
       "       [0.18490566, 0.        ],\n",
       "       [0.18490566, 0.        ],\n",
       "       [0.18490566, 0.        ],\n",
       "       [0.18490566, 0.        ],\n",
       "       [0.18867925, 0.        ],\n",
       "       [0.21886792, 0.        ],\n",
       "       [0.74339623, 0.        ],\n",
       "       [0.74339623, 0.        ],\n",
       "       [1.        , 0.        ],\n",
       "       [0.11320755, 0.        ],\n",
       "       [0.11320755, 0.        ],\n",
       "       [0.11320755, 0.        ],\n",
       "       [0.11320755, 0.        ],\n",
       "       [0.11320755, 0.        ],\n",
       "       [0.03396226, 0.        ],\n",
       "       [0.03396226, 0.        ],\n",
       "       [0.03396226, 0.        ],\n",
       "       [0.07169811, 0.        ],\n",
       "       [0.23018868, 0.        ],\n",
       "       [0.23018868, 0.        ],\n",
       "       [0.23018868, 0.        ],\n",
       "       [0.23018868, 0.        ],\n",
       "       [0.23018868, 0.        ],\n",
       "       [0.23018868, 0.        ],\n",
       "       [0.29811321, 0.        ],\n",
       "       [0.2754717 , 0.        ],\n",
       "       [0.46037736, 0.        ],\n",
       "       [0.46037736, 0.        ],\n",
       "       [0.46037736, 0.        ],\n",
       "       [0.46037736, 0.        ],\n",
       "       [0.65283019, 0.        ],\n",
       "       [0.65283019, 0.        ],\n",
       "       [0.93207547, 0.        ],\n",
       "       [0.91698113, 0.        ],\n",
       "       [0.29811321, 0.        ],\n",
       "       [0.11698113, 0.        ],\n",
       "       [0.11698113, 0.        ],\n",
       "       [0.11698113, 0.        ],\n",
       "       [0.13962264, 0.        ],\n",
       "       [0.18490566, 0.        ],\n",
       "       [0.23018868, 0.        ],\n",
       "       [0.35849057, 0.        ],\n",
       "       [0.35849057, 0.        ],\n",
       "       [0.35849057, 0.        ],\n",
       "       [0.23018868, 0.        ],\n",
       "       [0.23018868, 0.        ],\n",
       "       [0.18490566, 0.        ],\n",
       "       [0.18490566, 0.        ],\n",
       "       [0.13584906, 0.        ],\n",
       "       [0.15849057, 0.        ],\n",
       "       [0.13584906, 0.        ],\n",
       "       [0.13584906, 0.        ],\n",
       "       [0.13584906, 0.        ],\n",
       "       [0.13584906, 0.        ],\n",
       "       [0.13584906, 0.        ],\n",
       "       [0.13584906, 0.        ],\n",
       "       [0.13584906, 0.        ],\n",
       "       [0.13584906, 0.        ],\n",
       "       [0.22264151, 0.        ],\n",
       "       [0.22264151, 0.        ],\n",
       "       [0.45283019, 0.        ],\n",
       "       [0.45283019, 0.        ],\n",
       "       [0.45283019, 0.        ],\n",
       "       [0.45283019, 0.        ],\n",
       "       [0.45283019, 0.        ],\n",
       "       [0.45283019, 0.        ],\n",
       "       [0.22264151, 0.        ],\n",
       "       [0.34339623, 0.        ],\n",
       "       [0.22264151, 0.        ],\n",
       "       [0.34339623, 0.        ],\n",
       "       [0.22264151, 0.        ],\n",
       "       [0.34339623, 0.        ],\n",
       "       [0.22264151, 0.        ],\n",
       "       [0.34339623, 0.        ],\n",
       "       [0.22264151, 0.        ],\n",
       "       [0.34339623, 0.        ],\n",
       "       [0.2754717 , 0.        ],\n",
       "       [0.10943396, 0.        ],\n",
       "       [0.13962264, 0.        ],\n",
       "       [0.10943396, 0.        ],\n",
       "       [0.10943396, 0.        ],\n",
       "       [0.13962264, 0.        ],\n",
       "       [0.23018868, 0.        ],\n",
       "       [0.35849057, 0.        ],\n",
       "       [0.33962264, 0.        ],\n",
       "       [0.50188679, 0.        ],\n",
       "       [0.50188679, 0.        ],\n",
       "       [0.50188679, 0.        ],\n",
       "       [0.26792453, 0.        ],\n",
       "       [0.26792453, 0.        ],\n",
       "       [0.22641509, 0.        ],\n",
       "       [0.22641509, 0.        ],\n",
       "       [0.22641509, 0.        ],\n",
       "       [0.22641509, 0.        ],\n",
       "       [0.22641509, 0.        ],\n",
       "       [0.22641509, 0.        ],\n",
       "       [0.13584906, 0.        ],\n",
       "       [0.17735849, 0.        ],\n",
       "       [0.17735849, 0.        ],\n",
       "       [0.17735849, 0.        ],\n",
       "       [0.17735849, 0.        ],\n",
       "       [0.17735849, 0.        ],\n",
       "       [0.17735849, 0.        ],\n",
       "       [0.17735849, 0.        ],\n",
       "       [0.17735849, 0.        ],\n",
       "       [0.17735849, 0.        ],\n",
       "       [0.17735849, 0.        ],\n",
       "       [0.17735849, 0.        ],\n",
       "       [0.11698113, 0.        ],\n",
       "       [0.11698113, 0.        ],\n",
       "       [0.11698113, 0.        ],\n",
       "       [0.11698113, 0.        ],\n",
       "       [0.11698113, 0.        ],\n",
       "       [0.11698113, 0.        ],\n",
       "       [0.13962264, 0.        ],\n",
       "       [0.13962264, 0.        ],\n",
       "       [0.18490566, 0.        ],\n",
       "       [0.18490566, 0.        ],\n",
       "       [0.13962264, 0.        ],\n",
       "       [0.13962264, 0.        ],\n",
       "       [0.13962264, 0.        ],\n",
       "       [0.13962264, 0.        ],\n",
       "       [0.13962264, 0.        ],\n",
       "       [0.13962264, 0.        ],\n",
       "       [0.13962264, 0.        ],\n",
       "       [0.32075472, 0.        ],\n",
       "       [0.32075472, 0.        ],\n",
       "       [0.32075472, 0.        ],\n",
       "       [0.32075472, 0.        ],\n",
       "       [0.32075472, 0.        ],\n",
       "       [0.32075472, 0.        ],\n",
       "       [0.23018868, 0.        ],\n",
       "       [0.18490566, 0.        ],\n",
       "       [0.23018868, 0.        ],\n",
       "       [0.23018868, 0.        ],\n",
       "       [0.23018868, 0.        ],\n",
       "       [0.41509434, 0.        ],\n",
       "       [0.41509434, 0.        ],\n",
       "       [0.41509434, 0.        ],\n",
       "       [0.37735849, 0.        ],\n",
       "       [0.13584906, 0.        ],\n",
       "       [0.18113208, 0.        ],\n",
       "       [0.13584906, 0.        ],\n",
       "       [0.18113208, 0.        ],\n",
       "       [0.18113208, 0.        ],\n",
       "       [0.13584906, 0.        ],\n",
       "       [0.18113208, 0.        ],\n",
       "       [0.18113208, 0.        ],\n",
       "       [0.18113208, 0.        ],\n",
       "       [0.28301887, 0.        ],\n",
       "       [0.13584906, 0.        ],\n",
       "       [0.18113208, 0.        ],\n",
       "       [0.30188679, 0.        ],\n",
       "       [0.30188679, 0.        ],\n",
       "       [0.30188679, 0.        ],\n",
       "       [0.30188679, 0.        ],\n",
       "       [0.26037736, 0.        ],\n",
       "       [0.26037736, 0.        ],\n",
       "       [0.30188679, 0.        ],\n",
       "       [0.30188679, 0.        ],\n",
       "       [0.42264151, 0.        ],\n",
       "       [0.31698113, 0.        ],\n",
       "       [0.30188679, 0.        ]])"
      ]
     },
     "execution_count": 522,
     "metadata": {},
     "output_type": "execute_result"
    }
   ],
   "source": [
    "X_subset"
   ]
  },
  {
   "cell_type": "code",
   "execution_count": 524,
   "id": "75e37d9a-28b9-4214-916c-4e564c62674d",
   "metadata": {},
   "outputs": [],
   "source": [
    "def scatter_points_and_plot_line_MSE(X_subset): \n",
    "    plt.scatter(X_subset[:, 0], X_subset[:, 1])\n",
    "    lr = LR()\n",
    "    lr.fit(X_subset[:, 0][:, np.newaxis], X_subset[:, 1])\n",
    "    grid = np.linspace(0, 2, 100)\n",
    "    line = lr.predict(grid[:, np.newaxis])\n",
    "    plt.plot(grid, line)"
   ]
  },
  {
   "cell_type": "code",
   "execution_count": 526,
   "id": "32ffddd7-2e12-4101-8816-a0652a6ba09c",
   "metadata": {},
   "outputs": [
    {
     "data": {
      "text/plain": [
       "Text(0.5, 0, 'x')"
      ]
     },
     "execution_count": 526,
     "metadata": {},
     "output_type": "execute_result"
    },
    {
     "data": {
      "image/png": "[encoded data removed]",
      "text/plain": [
       "<Figure size 2000x500 with 2 Axes>"
      ]
     },
     "metadata": {},
     "output_type": "display_data"
    }
   ],
   "source": [
    "plt.figure(figsize = (20, 5))\n",
    "plt.subplot(1, 2, 1)\n",
    "scatter_points_and_plot_line_MSE(X_subset)\n",
    "plt.ylim(-20, 100)\n",
    "plt.xlabel('x')\n",
    "plt.ylabel('y')\n",
    "plt.subplot(1, 2, 2)\n",
    "scatter_points_and_plot_line_MSE(X_subset_modified)\n",
    "plt.ylim(-20, 100)\n",
    "plt.xlabel('x')"
   ]
  },
  {
   "cell_type": "code",
   "execution_count": 528,
   "id": "8b4abf2b-de03-4cbb-af53-129cf93b4859",
   "metadata": {},
   "outputs": [],
   "source": [
    "# Из-за шумовых объектов прямая достаточно сильно изменила наклон. Поэтому вместо MSE часто использует MAE\n",
    "# Теперь обучим регрессию, оптимизируя MAE. В sklearn такая регрессия не реализована, но можно использовать модуль statsmodels"
   ]
  },
  {
   "cell_type": "code",
   "execution_count": 530,
   "id": "c55a6782-10d5-4bbc-bc9b-2d92238281f4",
   "metadata": {},
   "outputs": [],
   "source": [
    "import statsmodels.api as sm\n",
    "import statsmodels.formula.api as smf"
   ]
  },
  {
   "cell_type": "code",
   "execution_count": 533,
   "id": "f8d991af-54d1-44ec-8e2b-a7116f975c2f",
   "metadata": {},
   "outputs": [],
   "source": [
    "def scatter_points_and_plot_line_MAE(X_subset):\n",
    "    mod = smf.quantreg('f15 ~ f7', pd.DataFrame(data = X_subset, columns = ['f7', 'f15']))\n",
    "    res = mod.fit(q = 0.5)\n",
    "    plt.scatter(X_subset[:, 0], X_subset[:, 1])\n",
    "    grid = np.linspace(0, 2, 100)\n",
    "    plt.plot(grid, grid * res.params['f7'] + res.params['Intercept'])\n",
    "    return mod, res"
   ]
  },
  {
   "cell_type": "code",
   "execution_count": 535,
   "id": "ac5606f5-eb9a-4ffe-ab22-da893fce5ac2",
   "metadata": {},
   "outputs": [
    {
     "name": "stderr",
     "output_type": "stream",
     "text": [
      "/opt/conda/envs/anaconda-2024.02-py310/lib/python3.10/site-packages/statsmodels/regression/quantile_regression.py:206: RuntimeWarning: divide by zero encountered in scalar divide\n",
      "  d = np.where(e > 0, (q/fhat0)**2, ((1-q)/fhat0)**2)\n",
      "/opt/conda/envs/anaconda-2024.02-py310/lib/python3.10/site-packages/statsmodels/regression/quantile_regression.py:208: RuntimeWarning: invalid value encountered in multiply\n",
      "  xtdx = np.dot(exog.T * d[np.newaxis, :], exog)\n",
      "/opt/conda/envs/anaconda-2024.02-py310/lib/python3.10/site-packages/statsmodels/regression/quantile_regression.py:219: RuntimeWarning: divide by zero encountered in scalar divide\n",
      "  lfit.sparsity = 1. / fhat0\n"
     ]
    },
    {
     "data": {
      "text/plain": [
       "Text(0.5, 0, 'x')"
      ]
     },
     "execution_count": 535,
     "metadata": {},
     "output_type": "execute_result"
    },
    {
     "data": {
      "image/png": "[encoded data removed]",
      "text/plain": [
       "<Figure size 2000x500 with 2 Axes>"
      ]
     },
     "metadata": {},
     "output_type": "display_data"
    }
   ],
   "source": [
    "plt.figure(figsize = (20, 5))\n",
    "plt.subplot(1, 2, 1)\n",
    "model, result = scatter_points_and_plot_line_MAE(X_subset)\n",
    "plt.ylim(-20, 100)\n",
    "plt.xlabel('x')\n",
    "plt.ylabel('y')\n",
    "plt.subplot(1, 2, 2)\n",
    "model, result = scatter_points_and_plot_line_MAE(X_subset_modified)\n",
    "plt.ylim(-20, 100)\n",
    "plt.xlabel('x')"
   ]
  },
  {
   "cell_type": "code",
   "execution_count": 537,
   "id": "d00722d6-312e-4b98-aa41-0d98e9ba82aa",
   "metadata": {},
   "outputs": [],
   "source": [
    "# прямая не изменила направление из-за выбросов"
   ]
  },
  {
   "cell_type": "code",
   "execution_count": null,
   "id": "456755cc-5dd6-401b-8f4f-9b996fc43aca",
   "metadata": {},
   "outputs": [],
   "source": []
  }
 ],
 "metadata": {
  "kernelspec": {
   "display_name": "anaconda-2024.02-py310",
   "language": "python",
   "name": "conda-env-anaconda-2024.02-py310-py"
  },
  "language_info": {
   "codemirror_mode": {
    "name": "ipython",
    "version": 3
   },
   "file_extension": ".py",
   "mimetype": "text/x-python",
   "name": "python",
   "nbconvert_exporter": "python",
   "pygments_lexer": "ipython3",
   "version": "3.10.14"
  }
 },
 "nbformat": 4,
 "nbformat_minor": 5
}
